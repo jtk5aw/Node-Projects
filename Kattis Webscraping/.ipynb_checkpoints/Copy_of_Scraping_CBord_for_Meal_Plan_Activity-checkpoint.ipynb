{
 "cells": [
  {
   "cell_type": "markdown",
   "metadata": {
    "colab_type": "text",
    "id": "5Jq0gnieKPFV"
   },
   "source": [
    "# Selenium\n",
    "\n",
    "A tool that lets you automate clicking/typing\n",
    "\n",
    "Great for scraping websites that are protected by user/pass, because you can use selenium to get past that screen before starting to scrape.\n",
    "\n",
    "https://selenium-python.readthedocs.io/navigating.html (if you forget commands / need to find new commands)"
   ]
  },
  {
   "cell_type": "code",
   "execution_count": 0,
   "metadata": {
    "colab": {},
    "colab_type": "code",
    "id": "V5GkGAB7KPFb"
   },
   "outputs": [],
   "source": [
    "import selenium.webdriver\n",
    "import pandas as pd"
   ]
  },
  {
   "cell_type": "markdown",
   "metadata": {
    "colab_type": "text",
    "id": "a9iucAGWKPF5"
   },
   "source": [
    "To install selenium, `pip install selenium`\n",
    "\n",
    "To install the chromedriver, `brew cask install chromedriver`\n",
    "\n",
    "or download from https://chromedriver.storage.googleapis.com/index.html?path=2.42/"
   ]
  },
  {
   "cell_type": "code",
   "execution_count": 0,
   "metadata": {
    "colab": {},
    "colab_type": "code",
    "id": "tbbgDjuCKPF_"
   },
   "outputs": [],
   "source": [
    "driver = selenium.webdriver.Chrome()"
   ]
  },
  {
   "cell_type": "markdown",
   "metadata": {
    "colab_type": "text",
    "id": "wDm68rsiKPGO"
   },
   "source": [
    "Let's get it up and running!"
   ]
  },
  {
   "cell_type": "code",
   "execution_count": 0,
   "metadata": {
    "colab": {},
    "colab_type": "code",
    "id": "Qt_lOuWAKPGS"
   },
   "outputs": [],
   "source": [
    "driver.get(\"http://www.google.com\")"
   ]
  },
  {
   "cell_type": "markdown",
   "metadata": {
    "colab_type": "text",
    "id": "LXtqr747KPGb"
   },
   "source": [
    "## Meal Plan Usage Data\n",
    "\n",
    "The demo we'll be showing today is scraping __meal plan__ usage from the CBORD website. As we all know the interface is ugly and you can't just download the data, so Selenium will be perfect for this."
   ]
  },
  {
   "cell_type": "code",
   "execution_count": 0,
   "metadata": {
    "colab": {},
    "colab_type": "code",
    "id": "Vs6zbVkRKPGe"
   },
   "outputs": [],
   "source": [
    "driver.get('https://csg-web1.eservices.virginia.edu/student/svc_history.php')"
   ]
  },
  {
   "cell_type": "markdown",
   "metadata": {
    "colab_type": "text",
    "id": "V50YIsv_KPGk"
   },
   "source": [
    "### Login with NetBadge\n",
    "(could do manually, but we will show for example's sake)"
   ]
  },
  {
   "cell_type": "code",
   "execution_count": 0,
   "metadata": {
    "colab": {},
    "colab_type": "code",
    "id": "gJh5NjjGKPGr"
   },
   "outputs": [],
   "source": [
    "element = driver.find_element_by_xpath('//*[@id=\"divContent\"]/table[2]/tbody/tr/td[2]/div/a')\n",
    "element.click()"
   ]
  },
  {
   "cell_type": "markdown",
   "metadata": {
    "colab_type": "text",
    "id": "F74QsZQhKPGy"
   },
   "source": [
    "XPath is a query language for selecting elements from a webpage. Every element will have a unique xpath."
   ]
  },
  {
   "cell_type": "code",
   "execution_count": 0,
   "metadata": {
    "colab": {},
    "colab_type": "code",
    "id": "I-Cw4BLLKPG0"
   },
   "outputs": [],
   "source": [
    "username = driver.find_element_by_xpath('//*[@id=\"user\"]')\n",
    "username.send_keys('ag5ym')"
   ]
  },
  {
   "cell_type": "code",
   "execution_count": 0,
   "metadata": {
    "colab": {},
    "colab_type": "code",
    "id": "fmiG0CYKKPG3"
   },
   "outputs": [],
   "source": [
    "password = driver.find_element_by_xpath('//*[@id=\"pass\"]')\n",
    "import getpass\n",
    "pw = getpass.getpass()"
   ]
  },
  {
   "cell_type": "code",
   "execution_count": 0,
   "metadata": {
    "colab": {},
    "colab_type": "code",
    "id": "Z5lvp0tFKPHP"
   },
   "outputs": [],
   "source": [
    "password.send_keys(pw)"
   ]
  },
  {
   "cell_type": "code",
   "execution_count": 0,
   "metadata": {
    "colab": {},
    "colab_type": "code",
    "id": "NHGBEotVKPHW"
   },
   "outputs": [],
   "source": [
    "#click login\n",
    "driver.find_element_by_xpath('//*[@id=\"loginBoxes\"]/fieldset[2]/span[2]/form/p[3]/input[1]').click()"
   ]
  },
  {
   "cell_type": "markdown",
   "metadata": {
    "colab_type": "text",
    "id": "3rosxa_zKPHe"
   },
   "source": [
    "### Modify Buttons and Dropdown Menus using Selenium"
   ]
  },
  {
   "cell_type": "markdown",
   "metadata": {
    "colab_type": "text",
    "id": "g8cHdQHQKPHg"
   },
   "source": [
    "Change month in the dropdown menu"
   ]
  },
  {
   "cell_type": "code",
   "execution_count": 0,
   "metadata": {
    "colab": {},
    "colab_type": "code",
    "id": "gOAFeVoXKPHj"
   },
   "outputs": [],
   "source": [
    "element = driver.find_element_by_xpath('//*[@id=\"svcHistForm\"]/table/tbody/tr[1]/td[2]/nobr/select[1]')\n",
    "all_options = element.find_elements_by_tag_name(\"option\")\n",
    "for option in all_options:\n",
    "    print(\"Value is: %s\" % option.get_attribute(\"value\")) # it's good to see what the option names actually are\n",
    "    if option.get_attribute('value') == \"08\":\n",
    "        option.click()"
   ]
  },
  {
   "cell_type": "markdown",
   "metadata": {
    "colab_type": "text",
    "id": "d7H7bFTUKPHu"
   },
   "source": [
    "Change year in the dropdown menu"
   ]
  },
  {
   "cell_type": "code",
   "execution_count": 0,
   "metadata": {
    "colab": {},
    "colab_type": "code",
    "id": "p2foRNFwKPHw"
   },
   "outputs": [],
   "source": [
    "element = driver.find_element_by_xpath('//*[@id=\"svcHistForm\"]/table/tbody/tr[1]/td[2]/nobr/select[3]')\n",
    "all_options = element.find_elements_by_tag_name(\"option\")\n",
    "for option in all_options:\n",
    "    print(\"Value is: %s\" % option.get_attribute(\"value\"))\n",
    "    if option.get_attribute('value') == \"2017\":\n",
    "        option.click()"
   ]
  },
  {
   "cell_type": "markdown",
   "metadata": {
    "colab_type": "text",
    "id": "d2ErUdBBKPH1"
   },
   "source": [
    "Change meal plan option in the dropdown menu"
   ]
  },
  {
   "cell_type": "code",
   "execution_count": 0,
   "metadata": {
    "colab": {},
    "colab_type": "code",
    "id": "jMNqb6-cKPH2"
   },
   "outputs": [],
   "source": [
    "element = driver.find_element_by_xpath('//*[@id=\"mnuPlan\"]')\n",
    "all_options = element.find_elements_by_tag_name(\"option\")\n",
    "for option in all_options:\n",
    "    print(\"Value is: %s\" % option.get_attribute(\"value\"))\n",
    "    if option.get_attribute('value') == \"M_All_\":\n",
    "        option.click()"
   ]
  },
  {
   "cell_type": "markdown",
   "metadata": {
    "colab_type": "text",
    "id": "DgG_MaHAKPH8"
   },
   "source": [
    "Click the \"view history\" button"
   ]
  },
  {
   "cell_type": "code",
   "execution_count": 0,
   "metadata": {
    "colab": {},
    "colab_type": "code",
    "id": "LJ0ebdi2KPH9"
   },
   "outputs": [],
   "source": [
    "driver.find_element_by_xpath('//*[@id=\"svcHistForm\"]/input[1]').click()"
   ]
  },
  {
   "cell_type": "markdown",
   "metadata": {
    "colab_type": "text",
    "id": "Ht5YeqrEKPIJ"
   },
   "source": [
    "Get the table's xpath. The \"outerHTML\" means that we want the whole table, and not the contents inside the `<table>` tag"
   ]
  },
  {
   "cell_type": "code",
   "execution_count": 0,
   "metadata": {
    "colab": {},
    "colab_type": "code",
    "id": "SlKq0K79KPIK"
   },
   "outputs": [],
   "source": [
    "datatable1 = driver.find_element_by_xpath('//*[@id=\"divHist\"]/table').get_attribute('outerHTML')"
   ]
  },
  {
   "cell_type": "code",
   "execution_count": 0,
   "metadata": {
    "colab": {},
    "colab_type": "code",
    "id": "84LBnJ-eKPIO"
   },
   "outputs": [],
   "source": [
    "datatable1 # we got the raw html"
   ]
  },
  {
   "cell_type": "code",
   "execution_count": 0,
   "metadata": {
    "colab": {},
    "colab_type": "code",
    "id": "OuELc-fCKPIU"
   },
   "outputs": [],
   "source": [
    "meal_swipes = pd.read_html(datatable1, header=0) # returns a list of dfs\n",
    "meal_swipes = meal_swipes[0] # there was only 1 datatable in the list at the 0th index"
   ]
  },
  {
   "cell_type": "code",
   "execution_count": 0,
   "metadata": {
    "colab": {},
    "colab_type": "code",
    "id": "R7tWdON6KPIZ"
   },
   "outputs": [],
   "source": [
    "meal_swipes.head(10)"
   ]
  },
  {
   "cell_type": "markdown",
   "metadata": {
    "colab_type": "text",
    "id": "TZ0c03ZPKPIi"
   },
   "source": [
    "## Data Analysis and Visualization"
   ]
  },
  {
   "cell_type": "code",
   "execution_count": 0,
   "metadata": {
    "colab": {},
    "colab_type": "code",
    "id": "ZQSJ6XbaKPIj"
   },
   "outputs": [],
   "source": [
    "meal_swipes.groupby('Location').count().sort_values('Amount', ascending=False)[['Amount']]"
   ]
  },
  {
   "cell_type": "markdown",
   "metadata": {
    "colab_type": "text",
    "id": "uBSKf-KKKPIp"
   },
   "source": [
    "Get the plus dollars usage now"
   ]
  },
  {
   "cell_type": "code",
   "execution_count": 0,
   "metadata": {
    "colab": {},
    "colab_type": "code",
    "id": "kWLnCZotKPIr"
   },
   "outputs": [],
   "source": [
    "element = driver.find_element_by_xpath('//*[@id=\"mnuPlan\"]')\n",
    "all_options = element.find_elements_by_tag_name(\"option\")\n",
    "for option in all_options:\n",
    "    print(\"Value is: %s\" % option.get_attribute(\"value\"))\n",
    "    if option.get_attribute('value') == \"S31\":\n",
    "        option.click()"
   ]
  },
  {
   "cell_type": "code",
   "execution_count": 0,
   "metadata": {
    "colab": {},
    "colab_type": "code",
    "id": "G0k0GIZfKPIz"
   },
   "outputs": [],
   "source": [
    "driver.find_element_by_xpath('//*[@id=\"svcHistForm\"]/input[1]').click()"
   ]
  },
  {
   "cell_type": "code",
   "execution_count": 0,
   "metadata": {
    "colab": {},
    "colab_type": "code",
    "id": "akIp1t2gKPI7"
   },
   "outputs": [],
   "source": [
    "datatable2 = driver.find_element_by_xpath('//*[@id=\"divHist\"]/table[2]').get_attribute('outerHTML')"
   ]
  },
  {
   "cell_type": "code",
   "execution_count": 0,
   "metadata": {
    "colab": {},
    "colab_type": "code",
    "id": "Zehjo9nPKPI_"
   },
   "outputs": [],
   "source": [
    "plus_dollars = pd.read_html(datatable2, header=0) # returns a list of dfs\n",
    "plus_dollars = plus_dollars[0]"
   ]
  },
  {
   "cell_type": "code",
   "execution_count": 0,
   "metadata": {
    "colab": {},
    "colab_type": "code",
    "id": "HsSFFP9hKPJC"
   },
   "outputs": [],
   "source": [
    "plus_dollars.head()"
   ]
  },
  {
   "cell_type": "code",
   "execution_count": 0,
   "metadata": {
    "colab": {},
    "colab_type": "code",
    "id": "5dYxnqRhKPJG"
   },
   "outputs": [],
   "source": [
    "plus_dollars.sort_values('Amount', ascending=True).head()"
   ]
  },
  {
   "cell_type": "code",
   "execution_count": 0,
   "metadata": {
    "colab": {},
    "colab_type": "code",
    "id": "xUb-7ZaaKPJJ"
   },
   "outputs": [],
   "source": [
    "plus_dollars['Amount'] = plus_dollars['Amount'].apply(lambda x: float(x[1:]))"
   ]
  },
  {
   "cell_type": "code",
   "execution_count": 0,
   "metadata": {
    "colab": {},
    "colab_type": "code",
    "id": "B0OAwpOYKPJL"
   },
   "outputs": [],
   "source": [
    "plus_dollars[plus_dollars['Amount'] >= 0].sort_values('Amount', ascending=False).head()"
   ]
  },
  {
   "cell_type": "code",
   "execution_count": 0,
   "metadata": {
    "colab": {},
    "colab_type": "code",
    "id": "QMOZLj4NKPJP"
   },
   "outputs": [],
   "source": [
    "import matplotlib.pyplot as plt\n",
    "import seaborn as sns"
   ]
  },
  {
   "cell_type": "code",
   "execution_count": 0,
   "metadata": {
    "colab": {},
    "colab_type": "code",
    "id": "nyJmp_7yKPJR"
   },
   "outputs": [],
   "source": [
    "merged = pd.concat([plus_dollars, meal_swipes])"
   ]
  },
  {
   "cell_type": "code",
   "execution_count": 0,
   "metadata": {
    "colab": {},
    "colab_type": "code",
    "id": "oxuaxYhtKPJU"
   },
   "outputs": [],
   "source": [
    "merged['Hour'] = merged['Post Date'].apply(lambda x: int(x.split(' ')[1].split(':')[0]))\n",
    "merged.head()"
   ]
  },
  {
   "cell_type": "code",
   "execution_count": 0,
   "metadata": {
    "colab": {},
    "colab_type": "code",
    "id": "vZ85VZDbKPJY"
   },
   "outputs": [],
   "source": [
    "df = merged.groupby('Hour').count()[['Post Date']].sort_index()"
   ]
  },
  {
   "cell_type": "code",
   "execution_count": 0,
   "metadata": {
    "colab": {},
    "colab_type": "code",
    "id": "e__OCNcVKPJd"
   },
   "outputs": [],
   "source": [
    "df"
   ]
  },
  {
   "cell_type": "code",
   "execution_count": 0,
   "metadata": {
    "colab": {},
    "colab_type": "code",
    "id": "BEAbjWUqKPJh"
   },
   "outputs": [],
   "source": [
    "sns.barplot(df.index, df['Post Date'])"
   ]
  },
  {
   "cell_type": "code",
   "execution_count": 0,
   "metadata": {
    "colab": {},
    "colab_type": "code",
    "id": "F7COsswqKPJk"
   },
   "outputs": [],
   "source": [
    "driver.close() #closes the Chrome browser currently being controlled"
   ]
  },
  {
   "cell_type": "code",
   "execution_count": 0,
   "metadata": {
    "colab": {},
    "colab_type": "code",
    "id": "_dNkppC5KPJm"
   },
   "outputs": [],
   "source": []
  }
 ],
 "metadata": {
  "colab": {
   "name": "Copy of Scraping CBord for Meal Plan Activity.ipynb",
   "provenance": [],
   "version": "0.3.2"
  },
  "kernelspec": {
   "display_name": "Python 3",
   "language": "python",
   "name": "python3"
  },
  "language_info": {
   "codemirror_mode": {
    "name": "ipython",
    "version": 3
   },
   "file_extension": ".py",
   "mimetype": "text/x-python",
   "name": "python",
   "nbconvert_exporter": "python",
   "pygments_lexer": "ipython3",
   "version": "3.6.6"
  }
 },
 "nbformat": 4,
 "nbformat_minor": 1
}
